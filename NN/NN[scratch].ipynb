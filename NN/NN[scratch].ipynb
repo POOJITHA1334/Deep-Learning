{
  "nbformat": 4,
  "nbformat_minor": 0,
  "metadata": {
    "colab": {
      "provenance": [],
      "authorship_tag": "ABX9TyPv1+/wwY2BOTopuiYvfOCd",
      "include_colab_link": true
    },
    "kernelspec": {
      "name": "python3",
      "display_name": "Python 3"
    },
    "language_info": {
      "name": "python"
    }
  },
  "cells": [
    {
      "cell_type": "markdown",
      "metadata": {
        "id": "view-in-github",
        "colab_type": "text"
      },
      "source": [
        "<a href=\"https://colab.research.google.com/github/POOJITHA1334/Deep-Learning/blob/main/NN/NN%5Bscratch%5D.ipynb\" target=\"_parent\"><img src=\"https://colab.research.google.com/assets/colab-badge.svg\" alt=\"Open In Colab\"/></a>"
      ]
    },
    {
      "cell_type": "code",
      "execution_count": null,
      "metadata": {
        "id": "w5qi4Cp1SFy5"
      },
      "outputs": [],
      "source": [
        "import numpy as np"
      ]
    },
    {
      "cell_type": "code",
      "source": [
        "x=np.array([[1,0,1,0],[1,0,1,1],[0,1,0,1]])\n",
        "x"
      ],
      "metadata": {
        "colab": {
          "base_uri": "https://localhost:8080/"
        },
        "id": "kQO4QJCVSrT7",
        "outputId": "515eaee1-4342-4796-e2f6-c21d57232bb3"
      },
      "execution_count": null,
      "outputs": [
        {
          "output_type": "execute_result",
          "data": {
            "text/plain": [
              "array([[1, 0, 1, 0],\n",
              "       [1, 0, 1, 1],\n",
              "       [0, 1, 0, 1]])"
            ]
          },
          "metadata": {},
          "execution_count": 4
        }
      ]
    },
    {
      "cell_type": "code",
      "source": [
        "y=np.array([[1],[0],[1]])\n",
        "y"
      ],
      "metadata": {
        "colab": {
          "base_uri": "https://localhost:8080/"
        },
        "id": "Ifh6Op8WS-Nw",
        "outputId": "93d20bec-34e5-46ac-f7da-2569d9198849"
      },
      "execution_count": null,
      "outputs": [
        {
          "output_type": "execute_result",
          "data": {
            "text/plain": [
              "array([[1],\n",
              "       [0],\n",
              "       [1]])"
            ]
          },
          "metadata": {},
          "execution_count": 5
        }
      ]
    },
    {
      "cell_type": "code",
      "source": [
        "def sigmoid(x):\n",
        "  return 1/(1+np.exp(-x))"
      ],
      "metadata": {
        "id": "Y-hJ_rUMTTwV"
      },
      "execution_count": null,
      "outputs": []
    },
    {
      "cell_type": "code",
      "source": [
        "def derivative_sigmoid(x):\n",
        "  return x*(1-x)"
      ],
      "metadata": {
        "id": "Nv3cpf1jTsSH"
      },
      "execution_count": null,
      "outputs": []
    },
    {
      "cell_type": "code",
      "source": [
        "epoch=5000\n",
        "lr=0.1\n",
        "input_neurons=x.shape[1]\n",
        "hidden_neurons=3\n",
        "output_neurons=1"
      ],
      "metadata": {
        "id": "uEwgtNBjT8z0"
      },
      "execution_count": null,
      "outputs": []
    },
    {
      "cell_type": "code",
      "source": [
        "wh=np.random.uniform(size=(input_neurons,hidden_neurons))\n",
        "bh=np.random.uniform(size=(1,hidden_neurons))\n",
        "wo=np.random.uniform(size=(hidden_neurons,output_neurons))\n",
        "bo=np.random.uniform(size=(1,output_neurons))\n"
      ],
      "metadata": {
        "id": "QQx7dDRkUa1l"
      },
      "execution_count": null,
      "outputs": []
    },
    {
      "cell_type": "code",
      "source": [
        "for i in range(epoch):\n",
        "  #forward\n",
        "  hidden_input=np.dot(x,wh)\n",
        "  hidden_input=hidden_input+bh\n",
        "  hidden_activation=sigmoid(hidden_input)\n",
        "  output_layer=np.dot(hidden_activation,wo)\n",
        "  output=sigmoid(output_layer)\n",
        "  #backward\n",
        "  E=y-output\n",
        "  slope_output=derivative_sigmoid(output)\n",
        "  slope_hidden=derivative_sigmoid(hidden_activation)\n",
        "  d_output=E*slope_output\n",
        "  error_hidden=d_output.dot(wo.T)\n",
        "  d_hidden=error_hidden*slope_hidden\n",
        "  wo+=hidden_activation.T.dot(d_output)*lr\n",
        "  bo+=np.sum(d_output,axis=0,keepdims=True)*lr\n",
        "  wh+=x.T.dot(d_hidden)*lr\n",
        "  bh+=np.sum(d_hidden,axis=0,keepdims=True)*lr\n"
      ],
      "metadata": {
        "id": "AjCCZ9hmVLhJ"
      },
      "execution_count": null,
      "outputs": []
    },
    {
      "cell_type": "code",
      "source": [
        "output"
      ],
      "metadata": {
        "id": "SGck_dsEZWx2",
        "outputId": "eee1ec6f-cce4-44ff-8519-6a15e35090e1",
        "colab": {
          "base_uri": "https://localhost:8080/"
        }
      },
      "execution_count": null,
      "outputs": [
        {
          "output_type": "execute_result",
          "data": {
            "text/plain": [
              "array([[0.96192455],\n",
              "       [0.06645948],\n",
              "       [0.96365885]])"
            ]
          },
          "metadata": {},
          "execution_count": 16
        }
      ]
    }
  ]
}